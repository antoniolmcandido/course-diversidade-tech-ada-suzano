{
  "cells": [
    {
      "cell_type": "markdown",
      "id": "f66194a9",
      "metadata": {
        "id": "f66194a9"
      },
      "source": [
        "# Aula 04 - Métodos Mágicos\n",
        "\n",
        "Na aula anterior, um dos exercícios pediu que você fizesse uma classe para representar frações. Vamos considerar um pedacinho dela aqui. Iremos manter as coisas simples para focar em um novo conceito, mas não se esqueça de encapsular adequadamente suas classes!"
      ]
    },
    {
      "cell_type": "code",
      "execution_count": null,
      "id": "a24706a7",
      "metadata": {
        "id": "a24706a7"
      },
      "outputs": [],
      "source": [
        "class Fracao:\n",
        "    \n",
        "    def __init__(self, num, den):\n",
        "        self.num = num\n",
        "        self.den = den\n",
        "        \n",
        "    def soma(self, fracao2):\n",
        "        # primeiro multiplicamos os denominadores:\n",
        "        denominador = self.den * fracao2.den\n",
        "        # agora o produto cruzado entre numeradores e denominadores:\n",
        "        numerador = self.num * fracao2.den + self.den * fracao2.num\n",
        "        # montamos a nova fração:\n",
        "        resultado = Fracao(numerador, denominador)\n",
        "        return resultado"
      ]
    },
    {
      "cell_type": "markdown",
      "id": "52f14c75",
      "metadata": {
        "id": "52f14c75"
      },
      "source": [
        "Note que criamos um método chamado de \"soma\" para somar duas frações. Esse método será chamado a partir de um objeto Fracao e deverá receber como parâmetro outro objeto Fracao."
      ]
    },
    {
      "cell_type": "code",
      "execution_count": null,
      "id": "f2faaa0b",
      "metadata": {
        "id": "f2faaa0b",
        "outputId": "c12cad25-4a4b-405d-9b87-cee587471514"
      },
      "outputs": [
        {
          "name": "stdout",
          "output_type": "stream",
          "text": [
            "5/6\n"
          ]
        }
      ],
      "source": [
        "meio = Fracao(1, 2)\n",
        "terco = Fracao(1, 3)\n",
        "meio_mais_terco = meio.soma(terco)\n",
        "print(f'{meio_mais_terco.num}/{meio_mais_terco.den}')"
      ]
    },
    {
      "cell_type": "markdown",
      "id": "70dcfbb2",
      "metadata": {
        "id": "70dcfbb2"
      },
      "source": [
        "Note que, em comparação com outras classes que já utilizamos, como ```list``` ou ```str```, nossa classe Fracao é bastante inconveniente de trabalhar.\n",
        "\n",
        "Por exemplo, nós tivemos que formatar a nossa fração para poder imprimi-la. Simplesmente utilizar um ```print``` não resolve muita coisa:"
      ]
    },
    {
      "cell_type": "code",
      "execution_count": null,
      "id": "67e818ef",
      "metadata": {
        "id": "67e818ef",
        "outputId": "78c0601c-b360-45fa-9be5-fa09cd27e0e8"
      },
      "outputs": [
        {
          "name": "stdout",
          "output_type": "stream",
          "text": [
            "<__main__.Fracao object at 0x000001D39ED3E5E0>\n"
          ]
        }
      ],
      "source": [
        "print(meio_mais_terco)"
      ]
    },
    {
      "cell_type": "markdown",
      "id": "3ec143bd",
      "metadata": {
        "id": "3ec143bd"
      },
      "source": [
        "Compare com imprimir uma lista, onde o colchete e as vírgulas já vem automaticamente:"
      ]
    },
    {
      "cell_type": "code",
      "execution_count": null,
      "id": "e55d780b",
      "metadata": {
        "id": "e55d780b",
        "outputId": "62a78b00-728a-4c10-a56b-350b9404c307"
      },
      "outputs": [
        {
          "name": "stdout",
          "output_type": "stream",
          "text": [
            "[1, 'dois', 3.0]\n"
          ]
        }
      ],
      "source": [
        "lista = [1, 'dois', 3.0]\n",
        "print(lista)"
      ]
    },
    {
      "cell_type": "markdown",
      "id": "6578112b",
      "metadata": {
        "id": "6578112b"
      },
      "source": [
        "A soma também está bastante inconveniente. Você deve se lembrar que podemos \"somar\" duas strings utilizando o operador **+** sem dificuldade alguma:"
      ]
    },
    {
      "cell_type": "code",
      "execution_count": null,
      "id": "974abd73",
      "metadata": {
        "id": "974abd73",
        "outputId": "2fae4a62-e14c-4859-ee2c-0e7d86b53de4"
      },
      "outputs": [
        {
          "name": "stdout",
          "output_type": "stream",
          "text": [
            "Desenvolve40+\n"
          ]
        }
      ],
      "source": [
        "str1 = 'Desenvolve'\n",
        "str2 = '40+'\n",
        "\n",
        "print(str1 + str2)"
      ]
    },
    {
      "cell_type": "markdown",
      "id": "ff4e0dd2",
      "metadata": {
        "id": "ff4e0dd2"
      },
      "source": [
        "Já nos nossos objetos Fracao, que nós sabemos matematicamente como somar, não conseguimos utilizar o operador **+**:"
      ]
    },
    {
      "cell_type": "code",
      "execution_count": null,
      "id": "09f6e597",
      "metadata": {
        "id": "09f6e597",
        "outputId": "99150968-40b2-4f38-821e-ff69446a8485"
      },
      "outputs": [
        {
          "ename": "TypeError",
          "evalue": "unsupported operand type(s) for +: 'Fracao' and 'Fracao'",
          "output_type": "error",
          "traceback": [
            "\u001b[1;31m---------------------------------------------------------------------------\u001b[0m",
            "\u001b[1;31mTypeError\u001b[0m                                 Traceback (most recent call last)",
            "\u001b[1;32m~\\AppData\\Local\\Temp/ipykernel_38656/277853910.py\u001b[0m in \u001b[0;36m<module>\u001b[1;34m\u001b[0m\n\u001b[1;32m----> 1\u001b[1;33m \u001b[0mprint\u001b[0m\u001b[1;33m(\u001b[0m\u001b[0mmeio\u001b[0m \u001b[1;33m+\u001b[0m \u001b[0mterco\u001b[0m\u001b[1;33m)\u001b[0m\u001b[1;33m\u001b[0m\u001b[1;33m\u001b[0m\u001b[0m\n\u001b[0m",
            "\u001b[1;31mTypeError\u001b[0m: unsupported operand type(s) for +: 'Fracao' and 'Fracao'"
          ]
        }
      ],
      "source": [
        "print(meio + terco)"
      ]
    },
    {
      "cell_type": "markdown",
      "id": "4ba5e3d1",
      "metadata": {
        "id": "4ba5e3d1"
      },
      "source": [
        "Note a mensagem de erro: operandos de tipos não suportados para o operador +: Fracao e Fracao. Ou seja, o Python não sabe somar objetos da classe Fracao."
      ]
    },
    {
      "cell_type": "markdown",
      "id": "d7a800e5",
      "metadata": {
        "id": "d7a800e5"
      },
      "source": [
        "Você deve se lembrar que um dos quatro princípios da programação orientada a objeto era a **abstração**. Esse princípio dita que a classe deve ocultar ao máximo a sua complexidade e fornecer uma interface simples e fácil de ser utilizada.\n",
        "\n",
        "O que é mais fácil e intuitivo: ```f1 + f2``` ou ```f1.soma(f2)```? ```print(f1)``` ou um print com uma _f-string_ enorme referenciando diversos atributos diretamente?\n",
        "\n",
        "O que ```list```, ```str```, ```dict``` e várias outras classes prontas do Python tem de especial que a nossa classe não tem? Mágica. \n",
        "\n",
        "\n",
        "Aliás, métodos mágicos."
      ]
    },
    {
      "cell_type": "markdown",
      "id": "44e0447f",
      "metadata": {
        "id": "44e0447f"
      },
      "source": [
        "## Sintaxe \"_dunder_\"\n",
        "\n",
        "Nos nossos exemplos, frequentemente incluímos um método em nossas classes cujo nome não escolhemos. Nós sempre nos adequamos a um padrão que nos foi imposto: o ```__init__```. Coincidentemente (ou não), nós também nunca chamamos esse método explicitamente: ele sempre foi chamado de maneira automática pelo Python em uma situação específica (a criação de um objeto).\n",
        "\n",
        "Existe uma família de métodos com um comportamento semelhante ao ```__init__```. Eles também possuem nomes padrão, e seus nomes são sempre precedidos e sucedidos por dois _underscores_, o que lhes rendeu o apelido _dunder methods_, abreviação de \"_double underscore_\". Esses métodos também não foram feitos para serem chamados pelo nome. Ao invés disso, eles são chamados automaticamente pelo Python em situações específicas. \n",
        "\n",
        "Esses métodos também são chamados de **métodos mágicos**, e eles são responsáveis por todas essas situações onde conseguimos utilizar \"recursos padrão\" do Python, como operadores ou funções comuns sobre os nossos objetos. Vejamos alguns exemplos."
      ]
    },
    {
      "cell_type": "markdown",
      "id": "06be3575",
      "metadata": {
        "id": "06be3575"
      },
      "source": [
        "## Método de representação\n",
        "\n",
        "Um dos inconvenientes que citamos ali em cima foi o ```print```. Ao passarmos nossos próprios objetos para o ```print```, o resultado é um número gigante e que faz pouco sentido para seres humanos em situações normais.\n",
        "\n",
        "Para permitir a impressão direta de nossos objetos, sem que o programador utilizando nossa classe precise manualmente acessar os atributos e formatá-los, podemos criar um método mágico de representação: o ```__str__```.\n",
        "\n",
        "Ao passarmos um objeto para o ```print```, o Python irá procurar por seu método ```__str__```. Caso ele exista, ele será chamado e o seu retorno será escrito na tela.\n",
        "\n",
        "Portanto, iremos criar um método chamado de ```__str__``` que irá retornar uma string já no formato desejado."
      ]
    },
    {
      "cell_type": "code",
      "execution_count": null,
      "id": "ca78239c",
      "metadata": {
        "id": "ca78239c"
      },
      "outputs": [],
      "source": [
        "class Fracao:\n",
        "    \n",
        "    def __init__(self, num, den):\n",
        "        self.num = num\n",
        "        self.den = den\n",
        "        \n",
        "    def soma(self, fracao2):\n",
        "        # primeiro multiplicamos os denominadores:\n",
        "        denominador = self.den * fracao2.den\n",
        "        # agora o produto cruzado entre numeradores e denominadores:\n",
        "        numerador = self.num * fracao2.den + self.den * fracao2.num\n",
        "        # montamos a nova fração:\n",
        "        resultado = Fracao(numerador, denominador)\n",
        "        return resultado\n",
        "    \n",
        "    def __str__(self):\n",
        "        return f'{self.num}/{self.den}'"
      ]
    },
    {
      "cell_type": "code",
      "execution_count": null,
      "id": "98756d16",
      "metadata": {
        "id": "98756d16",
        "outputId": "223b1c29-06f7-4ef7-bb90-b870f38720d1"
      },
      "outputs": [
        {
          "name": "stdout",
          "output_type": "stream",
          "text": [
            "1/2\n",
            "1/3\n",
            "1/2 + 1/3 = 5/6\n"
          ]
        }
      ],
      "source": [
        "meio = Fracao(1, 2)\n",
        "print(meio)\n",
        "terco = Fracao(1, 3)\n",
        "print(terco)\n",
        "meio_mais_terco = meio.soma(terco)\n",
        "\n",
        "print(f'{meio} + {terco} = {meio_mais_terco}')"
      ]
    },
    {
      "cell_type": "markdown",
      "id": "b058ba6c",
      "metadata": {
        "id": "b058ba6c"
      },
      "source": [
        "Olha só! Agora conseguimos _printar_ diretamente objetos de nossa classe. Inclusive ficou bem mais fácil de montar strings complexas com diversos objetos de nossa classe no meio.\n",
        "\n",
        "O `__str__`, como o nome sugere, é uma **conversão** da nossa classe para string. Ele permite que a gente chame `str(objeto)`. Podemos implementar métodos mágicos em nossas classes para \"ensiná-las\" a converter seus objetos para outros tipos de dados, como int ou float.\n"
      ]
    },
    {
      "cell_type": "markdown",
      "id": "0272bb36",
      "metadata": {
        "id": "0272bb36"
      },
      "source": [
        "## Métodos aritméticos\n",
        "\n",
        "O próximo inconveniente que deveríamos endereçar é a soma. Nós, seres humanos, temos bastante facilidade para compreender o que o código abaixo faria:\n",
        "\n",
        "```\n",
        "f1 = Fracao(1,2)\n",
        "f2 = Fracao(1,3)\n",
        "resultado = f1 + f2\n",
        "```\n",
        "\n",
        "O Python, porém, ainda não. Afinal, nossos objetos possuem diversos atributos, e não está claro para o Python quais deles entram na conta, e nem mesmo qual exatamente é a conta a ser realizada.\n",
        "\n",
        "A soma - bem como qualquer outra operação aritmética padrão do Python - pode ser implementada através de um método mágico seguindo o seguinte padrão:\n",
        "* O nome do método será entre dois pares de underscores (sintaxe _dunder_).\n",
        "* O método receberá 2 parâmetros: _self_ (representando o objeto à esquerda do operador) e _other_ (representando o objeto à direita).\n",
        "* O método irá retornar o resultado da operação.\n",
        "\n",
        "A expressão:\n",
        "```\n",
        "f1 + f2\n",
        "```\n",
        "é \"traduzida\" pelo Python para:\n",
        "```\n",
        "f1.__add__(f2)\n",
        "```\n",
        "\n",
        "```__add__``` é o método mágico de soma, f1 será o _self_ e f2 será o _other_.\n",
        "\n",
        "Os principais métodos aritméticos são:\n",
        "* add: soma (```+```)\n",
        "* sub: subtração (```-```)\n",
        "* mul: multiplicação (```*```)\n",
        "* truediv: divisão real (```/```)\n",
        "* floordiv: divisão inteira (```//```)\n",
        "* mod: resto da divisão (```%```)\n",
        "* pow: potência (```**```)\n",
        "\n",
        "Vejamos nossa classe Fracao atualizada para aceitar o operador de soma:"
      ]
    },
    {
      "cell_type": "code",
      "execution_count": null,
      "id": "2dd48b12",
      "metadata": {
        "id": "2dd48b12"
      },
      "outputs": [],
      "source": []
    },
    {
      "cell_type": "code",
      "execution_count": null,
      "id": "a8c18521",
      "metadata": {
        "id": "a8c18521"
      },
      "outputs": [],
      "source": [
        "class Fracao:\n",
        "    \n",
        "    def __init__(self, num, den):\n",
        "        self.num = num\n",
        "        self.den = den\n",
        "        \n",
        "    def __add__(self, other):\n",
        "        # primeiro multiplicamos os denominadores:\n",
        "        denominador = self.den * other.den\n",
        "        # agora o produto cruzado entre numeradores e denominadores:\n",
        "        numerador = self.num * other.den + self.den * other.num\n",
        "        # montamos a nova fração:\n",
        "        resultado = Fracao(numerador, denominador)\n",
        "        return resultado    \n",
        "    \n",
        "    def __str__(self):\n",
        "        return f'{self.num}/{self.den}'"
      ]
    },
    {
      "cell_type": "code",
      "execution_count": null,
      "id": "23d8d843",
      "metadata": {
        "id": "23d8d843",
        "outputId": "185ff8a0-846c-496d-9cc8-917200220a7f"
      },
      "outputs": [
        {
          "name": "stdout",
          "output_type": "stream",
          "text": [
            "5/6\n",
            "30\n"
          ]
        }
      ],
      "source": [
        "meio = Fracao(1, 2)\n",
        "terco = Fracao(1, 3)\n",
        "meio_mais_terco = meio + terco\n",
        "print(meio_mais_terco)\n",
        "\n",
        "a = 10\n",
        "b = 20\n",
        "c = a + b\n",
        "print(c)"
      ]
    },
    {
      "cell_type": "markdown",
      "id": "a652df2d",
      "metadata": {
        "id": "a652df2d"
      },
      "source": [
        "Note como a sintaxe agora se parece muito mais com a forma como nós escreveríamos \"no papel\" e menos com um encadeamento de funções. Não precisamos mais memorizar o nome dos métodos da classe e podemos utilizar de maneira intuitiva os operadores que já estamos familiares desde a infância.\n"
      ]
    },
    {
      "cell_type": "markdown",
      "id": "019f4593",
      "metadata": {
        "id": "019f4593"
      },
      "source": [
        "## Métodos de comparação\n",
        "\n",
        "Os operadores aritméticos não são os únicos que utilizamos com frequência no Python. Frequentemente utilizamos alguns operadores lógicos, que deverão nos retornar **True** ou **False**. É bem comum utilizarmos esses operadores com números, para verificar se um deles é maior do que o outro, menor, igual ou diferente.\n",
        "\n",
        "Porém, eles podem ser utilizados para objetos diversos, como strings. Veja o resultado do código abaixo:"
      ]
    },
    {
      "cell_type": "code",
      "execution_count": null,
      "id": "902527a1",
      "metadata": {
        "id": "902527a1",
        "outputId": "52574a18-56a0-4493-f407-3caed585b425"
      },
      "outputs": [
        {
          "name": "stdout",
          "output_type": "stream",
          "text": [
            "False\n",
            "False\n",
            "True\n"
          ]
        }
      ],
      "source": [
        "str1 = 'Banana'\n",
        "str2 = 'Abacate'\n",
        "str3 = 'Abacaxi'\n",
        "\n",
        "print(str1 < str2) # Banana < Abacate\n",
        "print(str1 < str3) # Banana < Abacaxi\n",
        "print(str2 < str3) # Abacate < Abacaxi"
      ]
    },
    {
      "cell_type": "markdown",
      "id": "44413c6d",
      "metadata": {
        "id": "44413c6d"
      },
      "source": [
        "Os criadores da classe string parecem ter utilizado métodos mágicos para criar alguma regrinha permitindo a comparação de strings. De maneira simplificada, é ordem alfabética (mas dê uma olhadinha na observação ao final deste notebook).\n",
        "\n",
        "Podemos criar nossas próprias regras para comparar nossos objetos Fracao também. Os métodos mágicos de comparação também seguirão a lógica do _self_/_other_ dos métodos aritméticos. O que muda é o retorno, que idealmente deve ser um booleano.\n",
        "\n",
        "Os métodos são:\n",
        "\n",
        "* gt - _greater than_/maior que (```>```)\n",
        "* ge - _greater or equal_/maior ou igual (```>=```)\n",
        "* lt - _less than_/menor que (```<```)\n",
        "* le - _less or equal_/menor ou igual (```<=```)\n",
        "* eq - _equal_/igual (```==```)\n",
        "* ne - _not equal_/diferente (```!=```)\n",
        "\n",
        "Vamos implementar o ```>``` em nossa classe Fracao:"
      ]
    },
    {
      "cell_type": "code",
      "execution_count": null,
      "id": "a8baeb45",
      "metadata": {
        "id": "a8baeb45"
      },
      "outputs": [],
      "source": [
        "class Fracao:\n",
        "    \n",
        "    def __init__(self, num, den):\n",
        "        self.num = num\n",
        "        self.den = den\n",
        "        \n",
        "    def __add__(self, other):\n",
        "        # primeiro multiplicamos os denominadores:\n",
        "        denominador = self.den * other.den\n",
        "        # agora o produto cruzado entre numeradores e denominadores:\n",
        "        numerador = self.num * other.den + self.den * other.num\n",
        "        # montamos a nova fração:\n",
        "        resultado = Fracao(numerador, denominador)\n",
        "        return resultado\n",
        "    \n",
        "    def __gt__(self, other):\n",
        "        # uma lógica possível para comparar frações:\n",
        "        # realizar a divisão delas e comparar o resultado\n",
        "        div1 = self.num/self.den\n",
        "        div2 = other.num/other.den\n",
        "        return div1 > div2\n",
        "    \n",
        "    def __str__(self):\n",
        "        return f'{self.num}/{self.den}'"
      ]
    },
    {
      "cell_type": "code",
      "execution_count": null,
      "id": "b7680afe",
      "metadata": {
        "id": "b7680afe",
        "outputId": "96483b7f-f5ef-4be3-bfd7-246297426a2b"
      },
      "outputs": [
        {
          "name": "stdout",
          "output_type": "stream",
          "text": [
            "5/6\n",
            "1/2 > 1/3: True\n",
            "1/3 > 1/2: False\n",
            "1/2 > 5/6: False\n",
            "1/3 > 5/6: False\n",
            "5/6 > 1/3: True\n",
            "5/6 > 1/2: True\n",
            "A soma das frações é maior do que as frações\n"
          ]
        }
      ],
      "source": [
        "meio = Fracao(1, 2)\n",
        "terco = Fracao(1, 3)\n",
        "meio_mais_terco = meio + terco\n",
        "print(meio_mais_terco)\n",
        "\n",
        "print(f'{meio} > {terco}: {meio > terco}')\n",
        "print(f'{terco} > {meio}: {terco > meio}')\n",
        "\n",
        "print(f'{meio} > {meio_mais_terco}: {meio > meio_mais_terco}')\n",
        "print(f'{terco} > {meio_mais_terco}: {terco > meio_mais_terco}')\n",
        "\n",
        "print(f'{meio_mais_terco} > {terco}: {meio_mais_terco > terco}')\n",
        "print(f'{meio_mais_terco} > {meio}: {meio_mais_terco > meio}')\n",
        "\n",
        "if meio_mais_terco > meio and meio_mais_terco > terco:\n",
        "    print('A soma das frações é maior do que as frações')\n",
        "else:\n",
        "    print('Quebramos a matemática?')"
      ]
    },
    {
      "cell_type": "code",
      "execution_count": null,
      "id": "31b7d6e5",
      "metadata": {
        "id": "31b7d6e5"
      },
      "outputs": [],
      "source": []
    },
    {
      "cell_type": "markdown",
      "id": "67608688",
      "metadata": {
        "id": "67608688"
      },
      "source": [
        "Note que ao implementarmos os métodos de comparação, nós podemos até mesmo criar expressões lógicas completas para utilizar em condicionais e loops."
      ]
    },
    {
      "cell_type": "markdown",
      "id": "8869742a",
      "metadata": {
        "id": "8869742a"
      },
      "source": [
        "## Outros métodos mágicos\n",
        "\n",
        "Nós abordamos aqui alguns dos métodos mágicos mais usados, mas praticamente todos os operadores e comportamentos padrão do Python podem ser redefinidos para objetos de nossa classe, inclusive métodos para iterar nosso objeto (usar um _for_ para percorrê-lo), acessar elementos utilizando colchetes, realizar algumas conversões, dentre várias outras coisas interessantes.\n",
        "\n",
        "O link abaixo (em inglês) é bastante abrangente e ilustra tudo o que podemos personalizar em uma classe:\n",
        "https://rszalski.github.io/magicmethods/\n",
        "\n",
        "Uma boa referência em português, apesar de um pouco menos didática, é a documentação oficial:\n",
        "https://docs.python.org/pt-br/dev/reference/datamodel.html#specialnames"
      ]
    },
    {
      "cell_type": "markdown",
      "id": "2051b6bb",
      "metadata": {
        "id": "2051b6bb"
      },
      "source": [
        "## Observação sobre comparação de _str_\n",
        "\n",
        "Por não ser o foco da aula, falamos de maneira simplificada que comparação entre strings considera ordem alfabética. É um pouco mais complicado do que isso.\n",
        "\n",
        "Internamente, cada caractere é armazenado como um número. Quando utilizamos qualquer tipo de aplicação que irá exibir um texto (um editor de textos, navegador de internet, ou mesmo os nossos programinhas em Python rodando no terminal), a aplicação usa esses números como índices em uma **tabela de codificação de caracteres**.\n",
        "\n",
        "Temos diversos esquemas diferentes de codificação de caracteres em uso pelo mundo, e quando você está usando um programa ou navegando por um site e você nota símbolos estranhos no texto (frequentemente onde teríamos caracteres especiais, como letras com acento), é provável que o autor do texto tenha utilizado uma tabela e o seu computador esteja usando outra.\n",
        "\n",
        "Vários programas permitem a conversão entre essas tabelas, e você já deve ter visto essa \"sopa de letrinhas\" em alguma aba ou janela de configuração em algum editor de textos: **utf-8**, **utf-16**, **windows-1252** (ou **cp-2152**), e até mesmo alguns padrões ISO.\n",
        "\n",
        "Para ilustrar a ideia, vamos colocar aqui uma das tabelas mais simples, a tabela ASCII:\n",
        "\n",
        "![](https://upload.wikimedia.org/wikipedia/commons/thumb/1/1b/ASCII-Table-wide.svg/1200px-ASCII-Table-wide.svg.png)"
      ]
    },
    {
      "cell_type": "markdown",
      "id": "43d8bf83",
      "metadata": {
        "id": "43d8bf83"
      },
      "source": [
        "Note que o caractere 'A' está no índice 65, o 'B' está no índice 66, e assim sucessivamente. Por isso 'Abacate' < 'Banana' é verdadeiro: a primeira string começa com uma letra no índice 65 da tabela, a segunda com uma letra no índice 66.\n",
        "\n",
        "No caso de 'Abacate' e 'Abacaxi', temos um \"empate\" das 5 primeiras letras. Então é a sexta letra que vai mandar: 'x' é maior do que 't', por estar em uma posição superior na tabela.\n",
        "\n",
        "Note que a ordem não é exatamente alfabética: entre os caracteres maiúsculos, seguimos ordem alfabética. Entre os minúsculos, idem. E entre os dígitos numéricos, também temos ordem crescente correspondente aos valores. Mas todos os minúsculos são \"maiores\" do que qualquer maiúsculo, que por sua vez são \"maiores\" do que qualquer dígito numérico. Símbolos, operadores e sinais de pontuação estão em posições diversas."
      ]
    },
    {
      "cell_type": "code",
      "execution_count": null,
      "id": "eb6e189c",
      "metadata": {
        "id": "eb6e189c"
      },
      "outputs": [],
      "source": []
    },
    {
      "cell_type": "markdown",
      "id": "nYfv-bVbDI8q",
      "metadata": {
        "id": "nYfv-bVbDI8q"
      },
      "source": [
        "# Exercícios\n",
        "\n",
        "Atenção: tente aproveitar ao máximo o conteúdo \"acumulado\", ou seja, ao implementar as classes dos exercícios de hoje, explore os conteúdos anteriores, como modificadores de acesso e propriedades.\n",
        "\n",
        "---\n",
        "\n",
        "Implemente um método mágico para \"representação imprimível\" para *alguns* exercícios da aula passada. Você decide o formato adequado para representá-los em tela!\n",
        "\n",
        "Quando estiver confortável com a sintaxe, siga para os próximos exercícios!"
      ]
    },
    {
      "cell_type": "code",
      "execution_count": 28,
      "id": "64dkySelEGjH",
      "metadata": {
        "id": "64dkySelEGjH"
      },
      "outputs": [],
      "source": [
        "import random\n",
        "\n",
        "class Usuario:\n",
        "  # Método construtor\n",
        "  def __init__(self, nome, cpf, email):\n",
        "    self.nome = nome\n",
        "    self.cpf = cpf\n",
        "    self.login = email\n",
        "    self.__senha = str(random.randint(100000, 999999))\n",
        "  \n",
        "  def __get_senha(self):\n",
        "    return self.__senha\n",
        "  \n",
        "  def __set_senha(self, senha):\n",
        "    if senha != '':\n",
        "      self.__senha = senha\n",
        "\n",
        "  senha = property(__get_senha, __set_senha)\n",
        "\n",
        "  def fazer_login(self, login, senha):\n",
        "    if login == self.login and senha == self.senha:\n",
        "      print(self.nome, 'logado com sucesso!')\n",
        "    else:\n",
        "      print('Erro! Login ou senha incorretos!')\n",
        "\n",
        "  def __str__(self) -> str:\n",
        "    return f'Nome: {self.nome}, CPF: {self.cpf}, Email: {self.login} e Senha: {self.senha}'\n",
        "    "
      ]
    },
    {
      "cell_type": "code",
      "execution_count": 29,
      "id": "82ab654f",
      "metadata": {},
      "outputs": [
        {
          "name": "stdout",
          "output_type": "stream",
          "text": [
            "246024\n",
            "Nome: Rafael, CPF: 13579024681, Email: rafael@letscode.com e Senha: 246024\n"
          ]
        }
      ],
      "source": [
        "user = Usuario('Rafael', 13579024681, 'rafael@letscode.com')\n",
        "user.senha = ''\n",
        "print(user.senha)\n",
        "print(user)"
      ]
    },
    {
      "cell_type": "markdown",
      "id": "km2GD9I9EG07",
      "metadata": {
        "id": "km2GD9I9EG07"
      },
      "source": [
        "Expanda a classe `Fracao` utilizada de exemplo neste notebook para incluir métodos mágicos para:\n",
        "\n",
        "\n",
        "*   Adição, subtração, multiplicação e, pelo menos, divisão real - outras operações seriam bem-vindas\n",
        "*   Todas as comparações (>, >=, <, <=, == e !=)\n",
        "*   De tipos: \"representação imprimível\" (string) e conversões para números real e inteiro\n",
        "\n",
        "Adicione também métodos \"comuns\" para:\n",
        "*   Calcular o MDC entre o numerador e o denominador\n",
        "*   Simplificar uma fração (ou seja, se ela for 4/6, após o método ela se tornará 2/3)\n",
        "*   Retornar uma fração simplificada (ou seja, se ela for 4/6, continuará sendo, mas o método retornará uma nova fração 2/3)\n",
        "\n"
      ]
    },
    {
      "cell_type": "code",
      "execution_count": 44,
      "id": "vrpGMZomElgN",
      "metadata": {
        "id": "vrpGMZomElgN"
      },
      "outputs": [],
      "source": [
        "class Fracao:\n",
        "    def __init__(self, num, den):\n",
        "        self.num = num\n",
        "        self.den = den\n",
        "\n",
        "    def __add__(self, other):\n",
        "        # primeiro multiplicamos os denominadores:\n",
        "        denominador = self.den * other.den\n",
        "        # agora o produto cruzado entre numeradores e denominadores:\n",
        "        numerador = self.num * other.den + self.den * other.num\n",
        "        # montamos a nova fração:\n",
        "        resultado = Fracao(numerador, denominador)\n",
        "        return resultado\n",
        "\n",
        "    def __sub__(self, other):\n",
        "        # primeiro multiplicamos os denominadores:\n",
        "        denominador = self.den * other.den\n",
        "        # agora o produto cruzado entre numeradores e denominadores:\n",
        "        numerador = self.num * other.den - self.den * other.num\n",
        "        # montamos a nova fração:\n",
        "        resultado = Fracao(numerador, denominador)\n",
        "        return resultado\n",
        "\n",
        "    def __mul__(self, other):\n",
        "        # primeiro multiplicamos os numeradores:\n",
        "        numerador = self.num * other.num\n",
        "        # segundo multiplicamos os denominadores:\n",
        "        denominador = self.den * other.den\n",
        "         # montamos a nova fração:\n",
        "        resultado = Fracao(numerador, denominador)\n",
        "        return resultado\n",
        "\n",
        "    def __eq__(self, other):\n",
        "        # uma lógica possível para comparar frações:\n",
        "        # realizar a divisão delas e comparar o resultado\n",
        "        div1 = self.num/self.den\n",
        "        div2 = other.num/other.den\n",
        "        return div1 == div2\n",
        "\n",
        "    def __ne__(self, other):\n",
        "        # uma lógica possível para comparar frações:\n",
        "        # realizar a divisão delas e comparar o resultado\n",
        "        div1 = self.num/self.den\n",
        "        div2 = other.num/other.den\n",
        "        return div1 != div2\n",
        "\n",
        "    def __gt__(self, other):\n",
        "        # uma lógica possível para comparar frações:\n",
        "        # realizar a divisão delas e comparar o resultado\n",
        "        div1 = self.num/self.den\n",
        "        div2 = other.num/other.den\n",
        "        return div1 > div2\n",
        "\n",
        "    def __ge__(self, other):\n",
        "        # uma lógica possível para comparar frações:\n",
        "        # realizar a divisão delas e comparar o resultado\n",
        "        div1 = self.num/self.den\n",
        "        div2 = other.num/other.den\n",
        "        return div1 >= div2\n",
        "\n",
        "    def __lt__(self, other):\n",
        "        # uma lógica possível para comparar frações:\n",
        "        # realizar a divisão delas e comparar o resultado\n",
        "        div1 = self.num/self.den\n",
        "        div2 = other.num/other.den\n",
        "        return div1 < div2\n",
        "\n",
        "    def __le__(self, other):\n",
        "        # uma lógica possível para comparar frações:\n",
        "        # realizar a divisão delas e comparar o resultado\n",
        "        div1 = self.num/self.den\n",
        "        div2 = other.num/other.den\n",
        "        return div1 <= div2\n",
        "\n",
        "    def __str__(self):\n",
        "        return f'{self.num}/{self.den}'\n",
        "\n",
        "\n",
        "    # Python3 uses special division names: __truediv__ and __floordiv__ for the / and // operators, respectively."
      ]
    },
    {
      "cell_type": "code",
      "execution_count": 46,
      "id": "5074a783",
      "metadata": {},
      "outputs": [
        {
          "name": "stdout",
          "output_type": "stream",
          "text": [
            "2/21\n",
            "2/7 == 1/3: False\n",
            "2/7 != 1/3: True\n",
            "2/7 > 1/3: False\n",
            "2/7 >= 1/3: False\n",
            "2/7 < 1/3: True\n",
            "2/7 <= 1/3: True\n"
          ]
        }
      ],
      "source": [
        "f1 = Fracao(2, 7)\n",
        "f2 = Fracao(1, 3)\n",
        "resultado = f1 * f2\n",
        "print(resultado)\n",
        "\n",
        "print(f'{f1} == {f2}: {f1 == f2}')\n",
        "print(f'{f1} != {f2}: {f1 != f2}')\n",
        "print(f'{f1} > {f2}: {f1 > f2}')\n",
        "print(f'{f1} >= {f2}: {f1 >= f2}')\n",
        "print(f'{f1} < {f2}: {f1 < f2}')\n",
        "print(f'{f1} <= {f2}: {f1 <= f2}')"
      ]
    },
    {
      "cell_type": "markdown",
      "id": "Tp2Jy8r9FfxW",
      "metadata": {
        "id": "Tp2Jy8r9FfxW"
      },
      "source": [
        "**Números complexos** são números que possuem 2 componentes: uma parte real e uma parte imaginária. A parte imaginária consiste em um número real multiplicando a constante imaginária \"i\", que corresponde à raiz quadrada de -1.\n",
        "\n",
        "Dizemos que números complexos possuem a seguinte forma:\n",
        "\n",
        "c = a + bi\n",
        "\n",
        "Onde \"a\" e \"b\" são números reais.\n",
        "\n",
        "Números complexos podem ser interpretados como \"números de 2 dimensões\" (de forma análoga a um vetor bidimensional). A forma exibida acima é chamada de \"coordenadas retangulares\" ou \"forma trigonométrica\".\n",
        "\n",
        "Uma representação alternativa para eles, baseada em suas propriedades \"bidimensionais\", é a chamada forma polar. Ela vem do fato de que podemos representar um número imaginário como um \"vetor\" em um plano cartesiano formado pela parte real (eixo x) e a parte imaginária (eixo y). Na representação polar, ao invés de um par de coordenadas retangulares, também temos dois números, mas um deles é a magnitude (comprimento) desse \"vetor\" (dada por seu módulo) e pelo ângulo formado entre o vetor e o eixo real.\n",
        "\n",
        "Crie uma classe para representar números complexos. Ela deve ter, no mínimo:\n",
        "\n",
        "\n",
        "\n",
        "*   Métodos mágicos para soma, subtração, multiplicação e divisão\n",
        "*   Métodos mágicos para comparação (ATENÇÃO: se dois números complexos formam um par **conjugado**, não podemos afirmar que um deles é maior do que o outro, portanto, tanto > quanto < devem ser falsos. Porém, eles são DIFERENTES, portanto, == também será falso, e apenas != será diferente).\n",
        "* Método mágico para \"representação imprimível\".\n",
        "* Métodos convencionais para retornar seu módulo, seu ângulo, seu par complexo conjugado, uma tupla de 2 elementos contendo suas coordenadas retangulares: (a,b) e suas coordenadas polares: (mag, ang).\n",
        "\n",
        "\n",
        "Você pode encontrar mais explicações sobre todos os conceitos pertinentes, bem como fórmulas neste link: https://brasilescola.uol.com.br/matematica/numeros-complexos.htm"
      ]
    },
    {
      "cell_type": "code",
      "execution_count": null,
      "id": "wZS1FLbvFfOn",
      "metadata": {
        "id": "wZS1FLbvFfOn"
      },
      "outputs": [],
      "source": []
    }
  ],
  "metadata": {
    "colab": {
      "provenance": []
    },
    "kernelspec": {
      "display_name": "Python 3.9.12 ('base')",
      "language": "python",
      "name": "python3"
    },
    "language_info": {
      "codemirror_mode": {
        "name": "ipython",
        "version": 3
      },
      "file_extension": ".py",
      "mimetype": "text/x-python",
      "name": "python",
      "nbconvert_exporter": "python",
      "pygments_lexer": "ipython3",
      "version": "3.9.12"
    },
    "vscode": {
      "interpreter": {
        "hash": "ad2bdc8ecc057115af97d19610ffacc2b4e99fae6737bb82f5d7fb13d2f2c186"
      }
    }
  },
  "nbformat": 4,
  "nbformat_minor": 5
}
